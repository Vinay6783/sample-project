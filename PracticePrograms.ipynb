{
 "cells": [
  {
   "cell_type": "code",
   "execution_count": 1,
   "metadata": {},
   "outputs": [
    {
     "name": "stdout",
     "output_type": "stream",
     "text": [
      "Radius: 2.0\n",
      "Area :  12.56\n"
     ]
    }
   ],
   "source": [
    "# Q1\n",
    "r = float(input(\"Enter the radius of the circle: \"))\n",
    "print(\"Radius:\",r)\n",
    "area = 3.14*r*r\n",
    "print(\"Area : \", area)"
   ]
  },
  {
   "cell_type": "code",
   "execution_count": 2,
   "metadata": {},
   "outputs": [
    {
     "name": "stdout",
     "output_type": "stream",
     "text": [
      "Temperature in Celsius: 0.0\n",
      "Temperature in Fahrenheit:  32.0\n"
     ]
    }
   ],
   "source": [
    "# Q2\n",
    "c = float(input(\"Enter temperature in Celsius: \"))\n",
    "print(\"Temperature in Celsius:\",c)\n",
    "f = 9*c / 5 + 32\n",
    "print(\"Temperature in Fahrenheit: \", f)\n"
   ]
  },
  {
   "cell_type": "code",
   "execution_count": 3,
   "metadata": {},
   "outputs": [
    {
     "name": "stdout",
     "output_type": "stream",
     "text": [
      "First number: 4\n",
      "First number: 7\n",
      "First number: 9\n",
      "Maximum:  9\n"
     ]
    }
   ],
   "source": [
    "# Q3\n",
    "a = int(input(\"Enter first number:\"))\n",
    "b = int(input(\"Enter second number:\"))\n",
    "c = int(input(\"Enter third number: \"))\n",
    "print(\"First number:\",a)\n",
    "print(\"First number:\",b)\n",
    "print(\"First number:\",c)\n",
    "if a > b:\n",
    "    if a > c:\n",
    "        print(\"Maximum: \",a)\n",
    "    else:\n",
    "        print(\"Maximum: \",c)\n",
    "else:\n",
    "    if b > c:\n",
    "        print(\"Maximum: \",b)\n",
    "    else:\n",
    "        print(\"Maximum: \",c)\n",
    "        "
   ]
  },
  {
   "cell_type": "code",
   "execution_count": 2,
   "metadata": {},
   "outputs": [
    {
     "name": "stdout",
     "output_type": "stream",
     "text": [
      "Quadratic function: 1.0x*x + 2.0x + 1.0 = 0\n",
      "Roots are real and equal. They are: -1.0 , -1.0\n"
     ]
    }
   ],
   "source": [
    "# Q4\n",
    "import math\n",
    "a = float(input(\"Enter a: \"))\n",
    "b = float(input(\"Enter b: \"))\n",
    "c = float(input(\"Enter c: \"))\n",
    "d = b*b - 4*a*c\n",
    "print(f\"Quadratic function: {a}x*x + {b}x + {c} = 0\")\n",
    "if d > 0 :\n",
    "    x1 = (-b + math.sqrt(d)) / (2*a)\n",
    "    x2 = (-b - math.sqrt(d)) / (2*a)\n",
    "    print(f\"Roots are real and distinct. They are: {x1}  , {x2} \")\n",
    "elif d == 0:\n",
    "    x1 = x2 = -b / (2*a)\n",
    "    print(f\"Roots are real and equal. They are: {x1} , {x2}\")\n",
    "else:\n",
    "    x1 = -b / (2*a)\n",
    "    x2 = math.sqrt(-d) / (2*a)\n",
    "    print(f\"Roots are complex. They are: {x1}+i{x2}  ,  {x1}-i{x2}\")\n"
   ]
  },
  {
   "cell_type": "code",
   "execution_count": 55,
   "metadata": {},
   "outputs": [
    {
     "name": "stdout",
     "output_type": "stream",
     "text": [
      "You entered: 0\n",
      "You entered zero.\n"
     ]
    }
   ],
   "source": [
    "# Q5\n",
    "num = int(input(\"Enter a number: \"))\n",
    "print(\"You entered:\",num)\n",
    "if num > 0:\n",
    "    print(\"You entered a positive number.\")\n",
    "elif num < 0:\n",
    "    print(\"You entered negative number.\")\n",
    "else:\n",
    "    print(\"You entered zero.\")"
   ]
  },
  {
   "cell_type": "code",
   "execution_count": 56,
   "metadata": {},
   "outputs": [
    {
     "name": "stdout",
     "output_type": "stream",
     "text": [
      "6.0 * 9.0 = 54.0\n"
     ]
    }
   ],
   "source": [
    "# Q6\n",
    "a = float(input(\"Enter first number: \"))\n",
    "b = float(input(\"Enter second number: \"))\n",
    "c = input(\"\"\"Enter\n",
    "             + ----> to add\n",
    "             - ----> to subtract\n",
    "             * ----> to multiply\n",
    "             / ----> to divide\n",
    "          \"\"\")\n",
    "if c == '+':\n",
    "    print(f\"{a} + {b} = {a+b}\")\n",
    "elif c == '-':\n",
    "    print(f\"{a} - {b} = {a-b}\")\n",
    "elif c == '*':\n",
    "    print(f\"{a} * {b} = {a*b}\")\n",
    "elif c == '/':\n",
    "    if b != 0:\n",
    "        print(f\"{a} / {b} = {a/b}\")\n",
    "    else:\n",
    "        print(\"Enter a non zero value.\")\n",
    "else:\n",
    "    print(\"Enter a valid operator. \")"
   ]
  },
  {
   "cell_type": "code",
   "execution_count": null,
   "metadata": {},
   "outputs": [
    {
     "name": "stdout",
     "output_type": "stream",
     "text": [
      "HCF of 6 and 9:  3\n"
     ]
    }
   ],
   "source": [
    "# Q7\n",
    "a = int(input(\"Enter first number: \"))\n",
    "b = int(input(\"Enter second number: \"))\n",
    "i = 1\n",
    "while i <= min(a,b):\n",
    "    if a % i == 0 and b % i == 0:\n",
    "        h = i\n",
    "    i += 1\n",
    "\n",
    "print(f\"HCF of {a} and {b}: \", h)"
   ]
  },
  {
   "cell_type": "code",
   "execution_count": null,
   "metadata": {},
   "outputs": [
    {
     "name": "stdout",
     "output_type": "stream",
     "text": [
      "LCM of 2 and 6 : 6\n"
     ]
    }
   ],
   "source": [
    "# Q8\n",
    "a = int(input(\"Enter first number: \"))\n",
    "b = int(input(\"Enter second number: \"))\n",
    "i = min(a,b)\n",
    "while i <= (a * b):\n",
    "    if i % a == 0 and i % b == 0:\n",
    "        l = i\n",
    "        break\n",
    "    i += 1\n",
    "print(f\"LCM of {a} and {b} : {l}\")"
   ]
  },
  {
   "cell_type": "code",
   "execution_count": null,
   "metadata": {},
   "outputs": [
    {
     "name": "stdout",
     "output_type": "stream",
     "text": [
      "You entered:  6783\n",
      "Maximum digit:  8\n"
     ]
    }
   ],
   "source": [
    "# Q9\n",
    "num = int(input(\"Enter a number: \"))\n",
    "print(\"You entered: \",num)\n",
    "max = 0\n",
    "while num != 0:\n",
    "    r = num % 10\n",
    "    num = num // 10\n",
    "    if r > max:\n",
    "        max = r\n",
    "print(\"Maximum digit: \",max)\n"
   ]
  },
  {
   "cell_type": "code",
   "execution_count": 23,
   "metadata": {},
   "outputs": [
    {
     "name": "stdout",
     "output_type": "stream",
     "text": [
      "You entered:  1935\n",
      "Not a Prime Number.\n"
     ]
    }
   ],
   "source": [
    "# Q10\n",
    "num = int(input(\"Enter a number:\"))\n",
    "print(\"You entered: \",num)\n",
    "i = 2\n",
    "while i < num:\n",
    "    if num % i == 0:\n",
    "        print(\"Not a Prime Number.\")\n",
    "        break\n",
    "    i += 1\n",
    "if i == num:\n",
    "    print(\"Is a Prime Number.\")\n",
    "    "
   ]
  },
  {
   "cell_type": "code",
   "execution_count": 4,
   "metadata": {},
   "outputs": [
    {
     "name": "stdout",
     "output_type": "stream",
     "text": [
      "The value of n: 4\n",
      "Sum:  30.0\n"
     ]
    }
   ],
   "source": [
    "# Q11\n",
    "n = int(input(\"Enter the value of n: \"))\n",
    "print(\"The value of n:\",n)\n",
    "sum = n * (n + 1) * (2*n + 1) / 6\n",
    "print(\"Sum: \",sum)"
   ]
  },
  {
   "cell_type": "code",
   "execution_count": 53,
   "metadata": {},
   "outputs": [
    {
     "name": "stdout",
     "output_type": "stream",
     "text": [
      "You entered: 4\n",
      "Sum = 12\n"
     ]
    }
   ],
   "source": [
    "# Q12\n",
    "def sum(n):\n",
    "    if n > 1:\n",
    "        return n*n*((-1)**n) + sum(n-1)\n",
    "    else:\n",
    "        return 1\n",
    "\n",
    "n = int(input(\"Enter the number: \"))\n",
    "print(\"You entered:\",n)\n",
    "s = sum(n)\n",
    "print(\"Sum =\",s)\n",
    "\n"
   ]
  },
  {
   "cell_type": "code",
   "execution_count": 43,
   "metadata": {},
   "outputs": [
    {
     "name": "stdout",
     "output_type": "stream",
     "text": [
      "n: 2\n",
      "x: 4\n",
      "Sum : 12.0\n"
     ]
    }
   ],
   "source": [
    "# Q13\n",
    "import math\n",
    "def s(n, x):\n",
    "    result = x\n",
    "    for i in range(2, n+1, 2):\n",
    "        result += (x**i) / math.factorial(i)\n",
    "    return result\n",
    "n = int(input(\"Enter the value of n: \"))\n",
    "x = int(input(\"Enter the value of x: \"))\n",
    "print(\"n:\",n)\n",
    "print(\"x:\",x)\n",
    "print(\"Sum :\", s(n,x))    "
   ]
  },
  {
   "cell_type": "code",
   "execution_count": 26,
   "metadata": {},
   "outputs": [
    {
     "name": "stdout",
     "output_type": "stream",
     "text": [
      "The 6 terms of Fibonacci Series are: \n",
      "1 1 2 3 5 8 "
     ]
    }
   ],
   "source": [
    "# Q14\n",
    "n = int(input(\"Enter n: \"))\n",
    "a = 1\n",
    "b = 0\n",
    "print(f\"The {n} terms of Fibonacci Series are: \")\n",
    "for i in range(1, n+1):\n",
    "    fib = a + b\n",
    "    a = b\n",
    "    b = fib\n",
    "    print(fib, end = ' ')"
   ]
  },
  {
   "cell_type": "code",
   "execution_count": 54,
   "metadata": {},
   "outputs": [
    {
     "name": "stdout",
     "output_type": "stream",
     "text": [
      "You entered: 4 5 2 3 1\n",
      "Sorted Array: 1 2 3 4 5\n"
     ]
    }
   ],
   "source": [
    "# Q15\n",
    "n = input(\"Enter number of elements:\")\n",
    "print(\"You entered:\",n)\n",
    "a = n.split()\n",
    "a.sort()\n",
    "print(\"Sorted Array:\",\" \".join(a))\n",
    "    \n"
   ]
  },
  {
   "cell_type": "code",
   "execution_count": null,
   "metadata": {},
   "outputs": [
    {
     "name": "stdout",
     "output_type": "stream",
     "text": [
      "Number entered: 6783\n",
      "New Number: 7638"
     ]
    }
   ],
   "source": [
    "# Q16\n",
    "num = int(input(\"Enter the number: \"))\n",
    "print(\"Number entered:\",num)\n",
    "b = list(str(num))\n",
    "for i in range(0 ,len(b)-1, 2):\n",
    "    b[i] , b[i+1] = b[i+1] , b[i]\n",
    "print(\"New Number:\",end = ' ')\n",
    "for i in b:\n",
    "    print(i,end='')"
   ]
  },
  {
   "cell_type": "code",
   "execution_count": 20,
   "metadata": {},
   "outputs": [
    {
     "name": "stdout",
     "output_type": "stream",
     "text": [
      "You entered : 5 2 3 4 1\n",
      "Not a palindrone.\n"
     ]
    }
   ],
   "source": [
    "# Q17\n",
    "s = input(\"Enter the string: \")\n",
    "print(\"You entered :\",s)\n",
    "if s == s[::-1] :\n",
    "    print(\"Is a palindrone.\")\n",
    "else:\n",
    "    print(\"Not a palindrone.\")"
   ]
  },
  {
   "cell_type": "code",
   "execution_count": 34,
   "metadata": {},
   "outputs": [
    {
     "name": "stdout",
     "output_type": "stream",
     "text": [
      "Factorial of 5 : 120\n"
     ]
    }
   ],
   "source": [
    "# Q18\n",
    "n = int(input(\"Enter a number\"))\n",
    "a = n\n",
    "prod = 1\n",
    "while n > 0:\n",
    "    prod *= n\n",
    "    n -= 1\n",
    "print(f\"Factorial of {a} : {prod}\")"
   ]
  },
  {
   "cell_type": "code",
   "execution_count": 50,
   "metadata": {},
   "outputs": [
    {
     "name": "stdout",
     "output_type": "stream",
     "text": [
      "You entered: Amit Vikas ruchir Vinay\n",
      "Sorted list: Amit ruchir Vikas Vinay\n"
     ]
    }
   ],
   "source": [
    "# Q19\n",
    "names = input(\"Enter the name separated by space\")\n",
    "print(\"You entered:\", names)\n",
    "n_list = names.split()\n",
    "n_list.sort(key = str.lower)\n",
    "print(\"Sorted list:\", \" \".join(n_list))\n"
   ]
  },
  {
   "cell_type": "code",
   "execution_count": null,
   "metadata": {},
   "outputs": [
    {
     "name": "stdout",
     "output_type": "stream",
     "text": [
      "153 is an Armstrong Number.\n"
     ]
    }
   ],
   "source": [
    "# Q20\n",
    "n = int(input(\"Enter a number.\"))\n",
    "a = n\n",
    "s = 0\n",
    "while n != 0:\n",
    "    r = n % 10\n",
    "    n = n // 10\n",
    "    s = s + r**3\n",
    "if s == a:\n",
    "    print(f\"{a} is an Armstrong Number.\")\n",
    "else:\n",
    "    print(f\"{a} is not an Armstrong Number.\") "
   ]
  },
  {
   "cell_type": "code",
   "execution_count": 2,
   "metadata": {},
   "outputs": [
    {
     "name": "stdout",
     "output_type": "stream",
     "text": [
      "You entered: 5\n",
      "               1  \n",
      "            1  4  \n",
      "         1  4  9  \n",
      "      1  4  9  16  \n",
      "   1  4  9  16  25  \n"
     ]
    }
   ],
   "source": [
    "#Pattern Printing\n",
    "# Q1\n",
    "n = int(input(\"Enter n: \"))\n",
    "print(\"You entered:\",n)\n",
    "for i in range(1, n + 1):\n",
    "    for j in range(1, 3*(n-i+1) + 1):\n",
    "        print(\"\", end = ' ')\n",
    "    for j in range(1, i + 1):\n",
    "        print(f\"{j*j} \", end = ' ')\n",
    "    print(\"\")"
   ]
  },
  {
   "cell_type": "code",
   "execution_count": 4,
   "metadata": {},
   "outputs": [
    {
     "name": "stdout",
     "output_type": "stream",
     "text": [
      "    1 \n",
      "   2 2 \n",
      "  3 3 3 \n",
      " 4 4 4 4 \n",
      "5 5 5 5 5 \n"
     ]
    }
   ],
   "source": [
    "# Q2\n",
    "n = int(input(\"Enter n \"))\n",
    "for i in range(1, n + 1):\n",
    "    for j in range(1, n - i + 1):\n",
    "        print(\"\", end = ' ')\n",
    "    for j in range(1, i + 1):\n",
    "        print(i, end = ' ')\n",
    "    print(\"\") "
   ]
  },
  {
   "cell_type": "code",
   "execution_count": 8,
   "metadata": {},
   "outputs": [
    {
     "name": "stdout",
     "output_type": "stream",
     "text": [
      "A B C D E \n",
      " A B C D \n",
      "  A B C \n",
      "   A B \n",
      "    A \n"
     ]
    }
   ],
   "source": [
    "# Q3\n",
    "n = int(input(\"Enter n\"))\n",
    "s = \"ABCDEFGHIJKLMNOPQRSTUVWXYZ\"\n",
    "for i in range(1, n + 1):\n",
    "    k = 0\n",
    "    for j in range(1, i):\n",
    "        print(\"\", end = ' ')\n",
    "    for j in range(i , n + 1):\n",
    "        print(s[k], end = ' ')\n",
    "        k += 1\n",
    "    print(\"\")"
   ]
  },
  {
   "cell_type": "code",
   "execution_count": 10,
   "metadata": {},
   "outputs": [
    {
     "name": "stdout",
     "output_type": "stream",
     "text": [
      "        A \n",
      "      A C E \n",
      "    A C E G I \n",
      "  A C E G I K M \n",
      "A C E G I K M O Q \n",
      "  A C E G I K M \n",
      "    A C E G I \n",
      "      A C E \n",
      "        A \n"
     ]
    }
   ],
   "source": [
    "# Q4\n",
    "n = int(input(\"Enter n\"))\n",
    "s = \"ABCDEFGHIJKLMNOPQRSTUVWXYZ\"\n",
    "for i in range(1, n + 1):\n",
    "    k = 0;\n",
    "    for j in range(1, 2*(n - i) + 1):\n",
    "        print(\"\", end = ' ')\n",
    "    for j in range(1, 2*i ):\n",
    "        print(s[k] , end =' ')\n",
    "        k += 2\n",
    "    print(\"\")\n",
    "for i in range(1, n):\n",
    "    k = 0;\n",
    "    for j in range(1, 2*i + 1):\n",
    "        print(\"\", end = ' ')\n",
    "    for j in range(1, 2*(n-i)):\n",
    "        print(s[k], end = ' ')\n",
    "        k += 2\n",
    "    print(\"\")\n",
    "    "
   ]
  },
  {
   "cell_type": "code",
   "execution_count": null,
   "metadata": {},
   "outputs": [
    {
     "name": "stdout",
     "output_type": "stream",
     "text": [
      "* * * * * \n",
      "*       * \n",
      "*       * \n",
      "*       * \n",
      "* * * * * \n"
     ]
    }
   ],
   "source": [
    "# Q5\n",
    "n = int(input(\"Enter n: \"))\n",
    "for i in range(1, n + 1):\n",
    "    for j in range(1, n + 1):\n",
    "        if i == 1 or i == n or j == 1 or j == n:\n",
    "            print(\"*\", end = ' ')\n",
    "        else :\n",
    "            print(\" \", end = ' ')\n",
    "    print(\"\")"
   ]
  },
  {
   "cell_type": "code",
   "execution_count": 18,
   "metadata": {},
   "outputs": [
    {
     "name": "stdout",
     "output_type": "stream",
     "text": [
      "           0 \n",
      "         1 0 1 \n",
      "       2 1 0 1 2 \n",
      "     3 2 1 0 1 2 3 \n",
      "   4 3 2 1 0 1 2 3 4 \n",
      " 5 4 3 2 1 0 1 2 3 4 5 \n"
     ]
    }
   ],
   "source": [
    "# Q6\n",
    "n = int(input(\"Enter n: \"))\n",
    "for i in range(0 , n + 1):\n",
    "    k = 1\n",
    "    l = i\n",
    "    m = (2*i+1) // 2 + 1\n",
    "    for j in range(0, 2*(n - i) + 1):\n",
    "        print(\"\", end = ' ')\n",
    "    for j in range(1, 2*i + 2):\n",
    "        if j == m:\n",
    "            print(\"0\", end = ' ')\n",
    "        elif j > m :\n",
    "            print(k, end = ' ')\n",
    "            k += 1\n",
    "        else:\n",
    "            print(l, end = ' ')\n",
    "            l -= 1\n",
    "    print(\"\")"
   ]
  },
  {
   "cell_type": "code",
   "execution_count": 17,
   "metadata": {},
   "outputs": [
    {
     "name": "stdout",
     "output_type": "stream",
     "text": [
      "a b c d e f g\n",
      "a b c   e f g \n",
      "a b       f g \n",
      "a           g \n",
      "a b       f g \n",
      "a b c   e f g \n",
      "a b c d e f g \n"
     ]
    }
   ],
   "source": [
    "# Q7\n",
    "s = \"abcdefg\"\n",
    "for i in range(1,8):\n",
    "    k = 0\n",
    "    if i <= 4:\n",
    "        for j in range(1, 5-i+1):\n",
    "            print(s[k], end = ' ')\n",
    "            k += 1\n",
    "        for j in range(1, 2*i-2):\n",
    "            print(\"\", end = '  ')\n",
    "            k += 1\n",
    "        if i == 1:\n",
    "            print(\"e f g\", end = '')\n",
    "        else:\n",
    "            for j in range(1, 6-i):\n",
    "                print(s[k], end = ' ')\n",
    "                k += 1\n",
    "    else:\n",
    "        for j in range(1, i//2 + 1):\n",
    "            print(s[k], end = ' ')\n",
    "            k += 1\n",
    "        for j in range(1 , 2*(7-i)):\n",
    "            print(\"  \", end = '')\n",
    "            k += 1\n",
    "        for j in range(1, i//2 + 1):\n",
    "            print(s[k], end = ' ')\n",
    "            k += 1\n",
    "        if i == 7 :\n",
    "            print(\"g\", end = ' ')\n",
    "    print(\"\")\n",
    "            "
   ]
  }
 ],
 "metadata": {
  "kernelspec": {
   "display_name": "Python 3",
   "language": "python",
   "name": "python3"
  },
  "language_info": {
   "codemirror_mode": {
    "name": "ipython",
    "version": 3
   },
   "file_extension": ".py",
   "mimetype": "text/x-python",
   "name": "python",
   "nbconvert_exporter": "python",
   "pygments_lexer": "ipython3",
   "version": "3.12.5"
  }
 },
 "nbformat": 4,
 "nbformat_minor": 2
}
